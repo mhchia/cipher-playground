{
 "cells": [
  {
   "cell_type": "code",
   "execution_count": 192,
   "id": "e3005417-fc49-4c68-8557-d3c8f05f2cc8",
   "metadata": {},
   "outputs": [
    {
     "data": {
      "text/plain": [
       "Ring of integers modulo 5"
      ]
     },
     "execution_count": 192,
     "metadata": {},
     "output_type": "execute_result"
    }
   ],
   "source": [
    "# since 5 is prime, its ring is the same as its field\n",
    "q = 5\n",
    "d = 4\n",
    "F5 = GF(q)\n",
    "Z5 = Integers(q); Z5"
   ]
  },
  {
   "cell_type": "code",
   "execution_count": 193,
   "id": "54410f71-aec8-45b4-a157-76fde000e892",
   "metadata": {},
   "outputs": [
    {
     "data": {
      "text/plain": [
       "(Univariate Polynomial Ring in X over Ring of integers modulo 5, X)"
      ]
     },
     "execution_count": 193,
     "metadata": {},
     "output_type": "execute_result"
    }
   ],
   "source": [
    "P.<X> = PolynomialRing(Z5); R, X"
   ]
  },
  {
   "cell_type": "code",
   "execution_count": 194,
   "id": "48b9bc00-8a7e-48d2-b3a4-5551b02ecda9",
   "metadata": {},
   "outputs": [
    {
     "data": {
      "text/plain": [
       "\"P = PolynomialRing(Z5, names=('X',)); (X,) = P._first_ngens(1)\""
      ]
     },
     "execution_count": 194,
     "metadata": {},
     "output_type": "execute_result"
    }
   ],
   "source": [
    "preparse(\"P.<X> = PolynomialRing(Z5)\")"
   ]
  },
  {
   "cell_type": "code",
   "execution_count": 195,
   "id": "847c9c00-2716-4dcb-8de8-ba67a0284780",
   "metadata": {},
   "outputs": [
    {
     "data": {
      "text/plain": [
       "X^4 + 1"
      ]
     },
     "execution_count": 195,
     "metadata": {},
     "output_type": "execute_result"
    }
   ],
   "source": [
    "Xdplus1 = X^d + 1; Xdplus1"
   ]
  },
  {
   "cell_type": "code",
   "execution_count": 196,
   "id": "a873dc3a-bbc9-426f-b8a6-7672d3fee3d4",
   "metadata": {},
   "outputs": [
    {
     "data": {
      "text/plain": [
       "(Univariate Quotient Polynomial Ring in x over Ring of integers modulo 5 with modulus X^4 + 1,\n",
       " x)"
      ]
     },
     "execution_count": 196,
     "metadata": {},
     "output_type": "execute_result"
    }
   ],
   "source": [
    "# R_q = Z_5[X] / (X^4 + 1)\n",
    "Rq.<x> = P.quotient(Xdplus1); Rq, x"
   ]
  },
  {
   "cell_type": "code",
   "execution_count": 197,
   "id": "6c730a04-02be-4ab5-b945-c902c8f58710",
   "metadata": {},
   "outputs": [
    {
     "data": {
      "text/plain": [
       "True"
      ]
     },
     "execution_count": 197,
     "metadata": {},
     "output_type": "execute_result"
    }
   ],
   "source": [
    "# x^4+1 = 0 mod (X^4 + 1)\n",
    "g = (2+x^2)*(3+x^2)\n",
    "g == x^4 +1 and x^4 +1 == 0"
   ]
  },
  {
   "cell_type": "code",
   "execution_count": 198,
   "id": "55f11ee9-3c21-4ba5-a1f7-017aacd90c43",
   "metadata": {},
   "outputs": [
    {
     "data": {
      "text/plain": [
       "True"
      ]
     },
     "execution_count": 198,
     "metadata": {},
     "output_type": "execute_result"
    }
   ],
   "source": [
    "# This is X not x, X is in P (Z_5[X] so it's not 0\n",
    "(2+X^2)*(3+X^2) == X^4 +1 and X^4 +1 != 0"
   ]
  },
  {
   "cell_type": "code",
   "execution_count": 199,
   "id": "62001736-1e81-40fb-9733-4cec09c40b00",
   "metadata": {},
   "outputs": [
    {
     "data": {
      "text/plain": [
       "X^4 + 2*X + 3"
      ]
     },
     "execution_count": 199,
     "metadata": {},
     "output_type": "execute_result"
    }
   ],
   "source": [
    "f = 3+2*X+X^4; f # in P"
   ]
  },
  {
   "cell_type": "code",
   "execution_count": 200,
   "id": "b9e3136c-65bb-4816-b719-993d7d589b0b",
   "metadata": {},
   "outputs": [
    {
     "data": {
      "text/plain": [
       "2*x + 2"
      ]
     },
     "execution_count": 200,
     "metadata": {},
     "output_type": "execute_result"
    }
   ],
   "source": [
    "# f in Rq and thus divided by X^4 + 1, i.e. X^4 = -1\n",
    "f_Rq = Rq(f); f_Rq"
   ]
  },
  {
   "cell_type": "code",
   "execution_count": 201,
   "id": "1f31d9ce-6440-4308-a3a5-be3f81279951",
   "metadata": {},
   "outputs": [
    {
     "data": {
      "text/plain": [
       "0"
      ]
     },
     "execution_count": 201,
     "metadata": {},
     "output_type": "execute_result"
    }
   ],
   "source": [
    "# both in Rq, safe to operate\n",
    "f_Rq * g"
   ]
  },
  {
   "cell_type": "code",
   "execution_count": 202,
   "id": "18cd59a3-d98d-48ed-9d30-be9fa40ff3a9",
   "metadata": {},
   "outputs": [
    {
     "data": {
      "text/plain": [
       "(0, 0)"
      ]
     },
     "execution_count": 202,
     "metadata": {},
     "output_type": "execute_result"
    }
   ],
   "source": [
    "# evaluate\n",
    "# 1. f is in P and can be called (evaluated) directly\n",
    "f(5)\n",
    "# 2. f_Rq is in quotient ring, which cannot be evaluated directly\n",
    "# g(2)  -> exception\n",
    "# We can lift `g` to P and evaluate it instead.\n",
    "G = g.lift(); G, G(2)"
   ]
  },
  {
   "cell_type": "markdown",
   "id": "90205d3e-fcaf-4b78-be86-5f52979e156d",
   "metadata": {},
   "source": [
    "## Multivariate"
   ]
  },
  {
   "cell_type": "code",
   "execution_count": 203,
   "id": "dbdf6a13-f5d9-47fc-bec0-24a202408eaf",
   "metadata": {},
   "outputs": [
    {
     "data": {
      "text/plain": [
       "Multivariate Polynomial Ring in x1, x2, x3 over Ring of integers modulo 7"
      ]
     },
     "execution_count": 203,
     "metadata": {},
     "output_type": "execute_result"
    }
   ],
   "source": [
    "Z7 = Integers(7)\n",
    "P.<x1,x2,x3> = PolynomialRing(Z7); P"
   ]
  },
  {
   "cell_type": "code",
   "execution_count": 204,
   "id": "03e768e8-2805-43dd-9ee4-f339ac538eea",
   "metadata": {},
   "outputs": [],
   "source": [
    "f = x1 + 2*x2 + 5*x3"
   ]
  },
  {
   "cell_type": "code",
   "execution_count": 207,
   "id": "a3570541-e105-4a49-97d2-ee293160d3e8",
   "metadata": {},
   "outputs": [
    {
     "data": {
      "text/plain": [
       "2*x2 + 5*x3 + 2"
      ]
     },
     "execution_count": 207,
     "metadata": {},
     "output_type": "execute_result"
    }
   ],
   "source": [
    "f(x1=2)"
   ]
  },
  {
   "cell_type": "code",
   "execution_count": 208,
   "id": "ec942c1a-f0e6-4516-848e-36919de6045e",
   "metadata": {},
   "outputs": [
    {
     "data": {
      "text/plain": [
       "5"
      ]
     },
     "execution_count": 208,
     "metadata": {},
     "output_type": "execute_result"
    }
   ],
   "source": [
    "f(x1=2, x2=1, x3=3)"
   ]
  }
 ],
 "metadata": {
  "kernelspec": {
   "display_name": "SageMath 10.5",
   "language": "sage",
   "name": "sagemath-10.5"
  },
  "language_info": {
   "codemirror_mode": {
    "name": "ipython",
    "version": 3
   },
   "file_extension": ".py",
   "mimetype": "text/x-python",
   "name": "python",
   "nbconvert_exporter": "python",
   "pygments_lexer": "ipython3",
   "version": "3.12.5"
  }
 },
 "nbformat": 4,
 "nbformat_minor": 5
}
