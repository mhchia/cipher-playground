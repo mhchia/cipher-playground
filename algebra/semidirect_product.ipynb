{
 "cells": [
  {
   "cell_type": "code",
   "execution_count": null,
   "id": "233b9e3d-e946-4dc2-bf9a-253d82402b20",
   "metadata": {},
   "outputs": [],
   "source": []
  },
  {
   "cell_type": "code",
   "execution_count": 1,
   "id": "494db2bc-10ee-4249-a628-d9022e0f1dfd",
   "metadata": {},
   "outputs": [],
   "source": [
    "n = 2**3"
   ]
  },
  {
   "cell_type": "code",
   "execution_count": 2,
   "id": "55d7c9c8-ae76-485e-9272-76ed1488f1c1",
   "metadata": {},
   "outputs": [
    {
     "data": {
      "text/plain": [
       "Cyclic group of order 8 as a permutation group"
      ]
     },
     "execution_count": 2,
     "metadata": {},
     "output_type": "execute_result"
    }
   ],
   "source": [
    "Cn = CyclicPermutationGroup(n)\n",
    "C2 = CyclicPermutationGroup(2); Cn"
   ]
  },
  {
   "cell_type": "code",
   "execution_count": 3,
   "id": "a67b7bab-6b22-4237-8280-eb6e3d883de8",
   "metadata": {},
   "outputs": [
    {
     "name": "stdout",
     "output_type": "stream",
     "text": [
      "Help on method semidirect_product in module sage.groups.perm_gps.permgroup:\n",
      "\n",
      "semidirect_product(N, mapping, check=True) method of sage.groups.perm_gps.permgroup_named.CyclicPermutationGroup_with_category instance\n",
      "    The semidirect product of ``self`` with ``N``.\n",
      "\n",
      "    INPUT:\n",
      "\n",
      "    - ``N`` -- a group which is acted on by ``self`` and\n",
      "      naturally embeds as a normal subgroup of the returned semidirect\n",
      "      product\n",
      "\n",
      "    - ``mapping`` -- a pair of lists that together define a\n",
      "      homomorphism, `\\phi :` ``self`` `\\rightarrow` Aut(``N``), by giving,\n",
      "      in the second list, the images of the generators of ``self``\n",
      "      in the order given in the first list\n",
      "\n",
      "    - ``check`` -- a boolean that, if set to ``False``, will skip the\n",
      "      initial tests which are made on ``mapping``. This may be beneficial\n",
      "      for large ``N``, since in such cases the injectivity test can be\n",
      "      expensive. Set to ``True`` by default.\n",
      "\n",
      "    OUTPUT:\n",
      "\n",
      "    The semidirect product of ``self`` and ``N`` defined by the\n",
      "    action of ``self`` on ``N`` given in ``mapping`` (note that a\n",
      "    homomorphism from `A` to the automorphism group of `B` is\n",
      "    equivalent to an action of `A` on `B`'s underlying set). The\n",
      "    semidirect product of two groups, `H` and `N`, is a construct\n",
      "    similar to the direct product in so far as the elements are\n",
      "    the Cartesian product of the elements of `H` and the elements\n",
      "    of `N`. The operation, however, is built upon an action of `H`\n",
      "    on `N`, and is defined as such:\n",
      "\n",
      "    .. MATH::\n",
      "\n",
      "            (h_1,n_1)(h_2,n_2) = (h_{1}h_{2}, n_{1}^{h_2}n_2)\n",
      "\n",
      "    This function is a wrapper for GAP's ``SemidirectProduct``\n",
      "    command. The permutation group returned is built upon a\n",
      "    permutation representation of the semidirect product of ``self``\n",
      "    and ``N`` on a set of size `\\mid N \\mid`. The generators of\n",
      "    ``N`` are given as their right regular representations, while the\n",
      "    generators of ``self`` are defined by the underlying action of\n",
      "    ``self`` on ``N``. It should be noted that the defining action is\n",
      "    not always faithful, and in this case the inputted representations\n",
      "    of the generators of ``self`` are placed on additional letters\n",
      "    and adjoined to the output's generators of ``self``.\n",
      "\n",
      "    EXAMPLES:\n",
      "\n",
      "    Perhaps the most common example of a semidirect product comes\n",
      "    from the family of dihedral groups. Each dihedral group is the\n",
      "    semidirect product of `C_2` with `C_n`, where, by convention,\n",
      "    `3 \\leq n`. In this case, the nontrivial element of `C_2` acts\n",
      "    on `C_n` so as to send each element to its inverse. ::\n",
      "\n",
      "        sage: C2 = CyclicPermutationGroup(2)\n",
      "        sage: C8 = CyclicPermutationGroup(8)\n",
      "        sage: alpha = PermutationGroupMorphism_im_gens(C8,C8,[(1,8,7,6,5,4,3,2)])\n",
      "        sage: S = C2.semidirect_product(C8,[[(1,2)],[alpha]])\n",
      "        sage: S == DihedralGroup(8)\n",
      "        False\n",
      "        sage: S.is_isomorphic(DihedralGroup(8))\n",
      "        True\n",
      "        sage: S.gens()\n",
      "        ((3,4,5,6,7,8,9,10), (1,2)(4,10)(5,9)(6,8))\n",
      "\n",
      "    A more complicated example can be drawn from [TW1980]_.\n",
      "    It is there given that a semidirect product of `D_4` and `C_3`\n",
      "    is isomorphic to one of `C_2` and the dicyclic group of order\n",
      "    12. This nonabelian group of order 24 has very similar\n",
      "    structure to the dicyclic and dihedral groups of order 24, the\n",
      "    three being the only groups of order 24 with a two-element\n",
      "    center and 9 conjugacy classes. ::\n",
      "\n",
      "        sage: D4 = DihedralGroup(4)\n",
      "        sage: C3 = CyclicPermutationGroup(3)\n",
      "        sage: alpha1 = PermutationGroupMorphism_im_gens(C3,C3,[(1,3,2)])\n",
      "        sage: alpha2 = PermutationGroupMorphism_im_gens(C3,C3,[(1,2,3)])\n",
      "        sage: S1 = D4.semidirect_product(C3,[[(1,2,3,4),(1,3)],[alpha1,alpha2]])\n",
      "        sage: C2 = CyclicPermutationGroup(2)\n",
      "        sage: Q = DiCyclicGroup(3)\n",
      "        sage: a = Q.gens()[0]; b=Q.gens()[1].inverse()\n",
      "        sage: alpha = PermutationGroupMorphism_im_gens(Q,Q,[a,b])\n",
      "        sage: S2 = C2.semidirect_product(Q,[[(1,2)],[alpha]])\n",
      "        sage: S1.is_isomorphic(S2)\n",
      "        True\n",
      "        sage: S1.is_isomorphic(DihedralGroup(12))\n",
      "        False\n",
      "        sage: S1.is_isomorphic(DiCyclicGroup(6))\n",
      "        False\n",
      "        sage: S1.center()\n",
      "        Subgroup generated by [(1,3)(2,4)] of\n",
      "         (Permutation Group with generators [(5,6,7), (1,2,3,4)(6,7), (1,3)])\n",
      "        sage: len(S1.conjugacy_classes_representatives())\n",
      "        9\n",
      "\n",
      "    If your normal subgroup is large, and you are confident that\n",
      "    your inputs will successfully create a semidirect product, then\n",
      "    it is beneficial, for the sake of time efficiency, to set the\n",
      "    ``check`` parameter to ``False``.  ::\n",
      "\n",
      "        sage: C2 = CyclicPermutationGroup(2)\n",
      "        sage: C2000 = CyclicPermutationGroup(500)\n",
      "        sage: alpha = PermutationGroupMorphism(C2000,C2000,[C2000.gen().inverse()])\n",
      "        sage: S = C2.semidirect_product(C2000,[[(1,2)],[alpha]],check=False)\n",
      "\n",
      "    TESTS::\n",
      "\n",
      "        sage: C3 = CyclicPermutationGroup(3)\n",
      "        sage: D4 = DihedralGroup(4)\n",
      "        sage: alpha = PermutationGroupMorphism(C3,C3,[C3(\"(1,3,2)\")])\n",
      "        sage: alpha1 = PermutationGroupMorphism(C3,C3,[C3(\"(1,2,3)\")])\n",
      "\n",
      "        sage: s = D4.semidirect_product('junk', [[(1,2,3,4),(1,2)], [alpha, alpha1]])\n",
      "        Traceback (most recent call last):\n",
      "        ...\n",
      "        TypeError: junk is not a permutation group\n",
      "\n",
      "        sage: s = D4.semidirect_product(C3, [[(1,2,3,4),(1,2)], [alpha, alpha1]])\n",
      "        Traceback (most recent call last):\n",
      "        ...\n",
      "        ValueError: the generator list must generate the calling group, [(1, 2, 3, 4), (1, 2)]\n",
      "        does not generate Dihedral group of order 8 as a permutation group\n",
      "\n",
      "        sage: s = D4.semidirect_product(C3, [[(1,2,3,4),(1,3)], [alpha]])\n",
      "        Traceback (most recent call last):\n",
      "        ...\n",
      "        ValueError: the list of generators and the list of morphisms must be of equal length\n",
      "\n",
      "        sage: alpha2 = PermutationGroupMorphism(C3, D4, [D4(\"()\")])\n",
      "        sage: s = D4.semidirect_product(C3, [[(1,2,3,4),(1,3)], [alpha, alpha2]])\n",
      "        Traceback (most recent call last):\n",
      "        ...\n",
      "        ValueError: an element of the automorphism list is not an endomorphism (and is therefore not an automorphism)\n",
      "\n",
      "        sage: alpha3 = PermutationGroupMorphism(C3,C3,[C3(\"()\")])\n",
      "        sage: s = D4.semidirect_product(C3, [[(1,2,3,4),(1,3)], [alpha, alpha3]])\n",
      "        Traceback (most recent call last):\n",
      "        ...\n",
      "        ValueError: an element of the automorphism list is not an injection (and is therefore not an automorphism)\n",
      "\n",
      "    AUTHOR:\n",
      "\n",
      "    - Kevin Halasz (2012-8-12)\n",
      "\n"
     ]
    }
   ],
   "source": [
    "help(Cn.semidirect_product)"
   ]
  },
  {
   "cell_type": "code",
   "execution_count": 4,
   "id": "efd4fa86-c81d-4d3f-bc42-d3c73398b17a",
   "metadata": {},
   "outputs": [
    {
     "data": {
      "text/plain": [
       "2"
      ]
     },
     "execution_count": 4,
     "metadata": {},
     "output_type": "execute_result"
    }
   ],
   "source": [
    "C2.list();  len(C2)"
   ]
  },
  {
   "cell_type": "code",
   "execution_count": 5,
   "id": "19a47532-72d5-4667-a355-17ed132091e1",
   "metadata": {},
   "outputs": [
    {
     "data": {
      "text/plain": [
       "(1, f1, f0, f0*f1)"
      ]
     },
     "execution_count": 5,
     "metadata": {},
     "output_type": "execute_result"
    }
   ],
   "source": [
    "Un  = Integers(n).unit_group(); Un.list()"
   ]
  },
  {
   "cell_type": "code",
   "execution_count": 6,
   "id": "ff193f26-0880-453a-b7b4-b46536daf5c5",
   "metadata": {},
   "outputs": [
    {
     "data": {
      "text/plain": [
       "Group endomorphism of Cyclic group of order 8 as a permutation group"
      ]
     },
     "execution_count": 6,
     "metadata": {},
     "output_type": "execute_result"
    }
   ],
   "source": [
    "x = Cn.gen()\n",
    "# Get phi7, which results in Dihedral\n",
    "# NOTE: Why use this?\n",
    "phi7 = Cn.hom([x^7]); phi7"
   ]
  },
  {
   "cell_type": "code",
   "execution_count": 7,
   "id": "9c17f417-9bcd-4443-b287-4a9dd3a18b97",
   "metadata": {},
   "outputs": [
    {
     "data": {
      "text/plain": [
       "[[(1,2)],\n",
       " [Group endomorphism of Cyclic group of order 8 as a permutation group]]"
      ]
     },
     "execution_count": 7,
     "metadata": {},
     "output_type": "execute_result"
    }
   ],
   "source": [
    "mapping = [[C2.gen()], [phi7]]; mapping"
   ]
  },
  {
   "cell_type": "code",
   "execution_count": 8,
   "id": "cd62047c-6909-4766-8e16-850921224890",
   "metadata": {},
   "outputs": [
    {
     "data": {
      "text/plain": [
       "Permutation Group with generators [(3,4,5,6,7,8,9,10), (1,2)(4,10)(5,9)(6,8)]"
      ]
     },
     "execution_count": 8,
     "metadata": {},
     "output_type": "execute_result"
    }
   ],
   "source": [
    "# Dn = Cn.semidirect_product(C2, mapping)  <-- there'll be `'AbelianGroupWithValues_class_with_category.element_class' object has no attribute 'is_endomorphism'`\n",
    "# Why it is $Cn \\rtimes C_2$?\n",
    "Dn = C2.semidirect_product(Cn, mapping); Dn"
   ]
  },
  {
   "cell_type": "code",
   "execution_count": 9,
   "id": "8fa6724a-531c-40ca-a1c7-54d6b98545fc",
   "metadata": {},
   "outputs": [
    {
     "data": {
      "text/plain": [
       "Dihedral group of order 16 as a permutation group"
      ]
     },
     "execution_count": 9,
     "metadata": {},
     "output_type": "execute_result"
    }
   ],
   "source": [
    "Dn_builtin = DihedralGroup(n); Dn_builtin"
   ]
  },
  {
   "cell_type": "code",
   "execution_count": 10,
   "id": "93ccfaaa-488e-4d74-9661-b7be089b3ab5",
   "metadata": {},
   "outputs": [
    {
     "data": {
      "text/plain": [
       "True"
      ]
     },
     "execution_count": 10,
     "metadata": {},
     "output_type": "execute_result"
    }
   ],
   "source": [
    "Dn_builtin.is_isomorphic(Dn)"
   ]
  }
 ],
 "metadata": {
  "kernelspec": {
   "display_name": "SageMath 10.5",
   "language": "sage",
   "name": "sagemath-10.5"
  },
  "language_info": {
   "codemirror_mode": {
    "name": "ipython",
    "version": 3
   },
   "file_extension": ".py",
   "mimetype": "text/x-python",
   "name": "python",
   "nbconvert_exporter": "python",
   "pygments_lexer": "ipython3",
   "version": "3.12.5"
  }
 },
 "nbformat": 4,
 "nbformat_minor": 5
}
