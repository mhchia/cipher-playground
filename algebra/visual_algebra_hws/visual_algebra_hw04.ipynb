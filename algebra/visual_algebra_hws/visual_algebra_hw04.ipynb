{
 "cells": [
  {
   "cell_type": "markdown",
   "id": "cfdce466-f5a2-44d3-bf8a-e9805e5b42ee",
   "metadata": {},
   "source": [
    "# HW04"
   ]
  },
  {
   "cell_type": "markdown",
   "id": "9f8ef338-1fb6-4cb4-8099-b7e9fc650df5",
   "metadata": {},
   "source": []
  },
  {
   "cell_type": "code",
   "execution_count": 27,
   "id": "843bf11a-8649-4027-8fba-ec98ea2b6956",
   "metadata": {},
   "outputs": [
    {
     "data": {
      "text/plain": [
       "zeta3"
      ]
     },
     "execution_count": 27,
     "metadata": {},
     "output_type": "execute_result"
    }
   ],
   "source": [
    "K = CyclotomicField(3); K\n",
    "zeta3 = K.gen(); zeta3"
   ]
  },
  {
   "cell_type": "code",
   "execution_count": 28,
   "id": "4c00a75b-6243-48ec-ae2c-9449580352a7",
   "metadata": {},
   "outputs": [
    {
     "data": {
      "text/plain": [
       "[     zeta3          0]\n",
       "[         0 -zeta3 - 1]"
      ]
     },
     "execution_count": 28,
     "metadata": {},
     "output_type": "execute_result"
    }
   ],
   "source": [
    "A = Matrix(K, [[zeta3, 0], [0, zeta3.conjugate()]]); A"
   ]
  },
  {
   "cell_type": "code",
   "execution_count": 29,
   "id": "3ebcbe6e-3a3a-4f88-b286-0a908fd2af27",
   "metadata": {},
   "outputs": [
    {
     "data": {
      "text/plain": [
       "True"
      ]
     },
     "execution_count": 29,
     "metadata": {},
     "output_type": "execute_result"
    }
   ],
   "source": [
    "A^3 == 1"
   ]
  },
  {
   "cell_type": "code",
   "execution_count": 30,
   "id": "e11ddeca-765f-4426-9088-984df37f8ea2",
   "metadata": {},
   "outputs": [
    {
     "data": {
      "text/plain": [
       "[ 0  1]\n",
       "[-1  0]"
      ]
     },
     "execution_count": 30,
     "metadata": {},
     "output_type": "execute_result"
    }
   ],
   "source": [
    "B = Matrix(K, [[0, 1], [-1, 0]]); B"
   ]
  },
  {
   "cell_type": "code",
   "execution_count": 31,
   "id": "3c957dc4-8c8f-4d3f-ac35-821c7b7d4701",
   "metadata": {},
   "outputs": [
    {
     "data": {
      "text/plain": [
       "Matrix group over Cyclotomic Field of order 3 and degree 2 with 2 generators (\n",
       "[     zeta3          0]  [ 0  1]\n",
       "[         0 -zeta3 - 1], [-1  0]\n",
       ")"
      ]
     },
     "execution_count": 31,
     "metadata": {},
     "output_type": "execute_result"
    }
   ],
   "source": [
    "Dic3 = MatrixGroup([A, B]); Dic3"
   ]
  },
  {
   "cell_type": "code",
   "execution_count": 32,
   "id": "e100112c-d6d3-45c8-8b31-8b092c2bde1b",
   "metadata": {},
   "outputs": [
    {
     "data": {
      "text/plain": [
       "12"
      ]
     },
     "execution_count": 32,
     "metadata": {},
     "output_type": "execute_result"
    }
   ],
   "source": [
    "Dic3.order()"
   ]
  },
  {
   "cell_type": "code",
   "execution_count": 34,
   "id": "cfec9413-f4a1-48da-bb6b-f1f1a82d6d6b",
   "metadata": {},
   "outputs": [
    {
     "data": {
      "text/plain": [
       "[1, 2, 3, 3, 4, 4, 4, 4, 4, 4, 6, 6]"
      ]
     },
     "execution_count": 34,
     "metadata": {},
     "output_type": "execute_result"
    }
   ],
   "source": [
    "sorted([i.order() for i in Dic3])"
   ]
  },
  {
   "cell_type": "code",
   "execution_count": null,
   "id": "2bcf3232-2d14-4a10-9ee0-38d2b52ac6de",
   "metadata": {},
   "outputs": [],
   "source": []
  }
 ],
 "metadata": {
  "kernelspec": {
   "display_name": "SageMath 10.5",
   "language": "sage",
   "name": "sagemath-10.5"
  },
  "language_info": {
   "codemirror_mode": {
    "name": "ipython",
    "version": 3
   },
   "file_extension": ".py",
   "mimetype": "text/x-python",
   "name": "python",
   "nbconvert_exporter": "python",
   "pygments_lexer": "ipython3",
   "version": "3.12.5"
  }
 },
 "nbformat": 4,
 "nbformat_minor": 5
}
